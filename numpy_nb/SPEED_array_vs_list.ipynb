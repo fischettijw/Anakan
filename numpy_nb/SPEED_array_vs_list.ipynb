{
 "cells": [
  {
   "cell_type": "markdown",
   "metadata": {},
   "source": [
    "### Speed difference between NumPy arrays and Python lists"
   ]
  },
  {
   "cell_type": "code",
   "execution_count": null,
   "metadata": {},
   "outputs": [],
   "source": [
    "import numpy as np"
   ]
  },
  {
   "cell_type": "code",
   "execution_count": null,
   "metadata": {},
   "outputs": [],
   "source": [
    "# Create an empty Python list and a NumPy array\n",
    "py_list_t = []\n",
    "np_array_t = np.empty(0)\n",
    "\n",
    "print(\"Empty py_list_t:   \", py_list_t)\n",
    "print(\"Empty np_array_t:   \",np_array_t)\n",
    "\n",
    "for x in range(10):\n",
    "    py_list_t.append(x+2)\n",
    "    np_array_t = np.append(np_array_t, x+2)\n",
    "\n",
    "print(\"py_list_t.append(x+2)   \",py_list_t)\n",
    "print(\"np_array_t = np.append(np_array_t, x+2)   \",np_array_t)"
   ]
  },
  {
   "cell_type": "code",
   "execution_count": null,
   "metadata": {},
   "outputs": [],
   "source": [
    "py_list_t = list(range(10))\n",
    "np_array_t = np.arange(10)\n",
    "\n",
    "print(py_list_t)\n",
    "print(np_array_t)"
   ]
  },
  {
   "cell_type": "markdown",
   "metadata": {},
   "source": [
    "# ChatGPT prompt:\n",
    "\n",
    "### Create a Python program to demonstrate the speed difference between NumPy arrays and Python lists:"
   ]
  },
  {
   "cell_type": "code",
   "execution_count": 22,
   "metadata": {},
   "outputs": [],
   "source": [
    "import numpy as np\n",
    "import time\n",
    "\n",
    "# Size of the data structures\n",
    "size = 10**6"
   ]
  },
  {
   "cell_type": "code",
   "execution_count": 23,
   "metadata": {},
   "outputs": [],
   "source": [
    "# Create a Python list and a NumPy array with the same data\n",
    "py_list = list(range(size))\n",
    "np_array = np.arange(size)"
   ]
  },
  {
   "cell_type": "code",
   "execution_count": 24,
   "metadata": {},
   "outputs": [
    {
     "name": "stdout",
     "output_type": "stream",
     "text": [
      "Addition:\n",
      "Python list took 0.030981 seconds\n",
      "NumPy array took 0.001000 seconds\n",
      "SPEED RATIO (Py/Np) = 30.98\n",
      "\n"
     ]
    }
   ],
   "source": [
    "# Addition\n",
    "start_time = time.time()\n",
    "py_list_result = [x + 2 for x in py_list]     # list comprehension\n",
    "py_list_time = time.time() - start_time\n",
    "\n",
    "start_time = time.time()\n",
    "np_array_result = np_array + 2\n",
    "np_array_time = time.time() - start_time\n",
    "\n",
    "print(\"Addition:\")\n",
    "print(f\"Python list took {py_list_time:.6f} seconds\")\n",
    "print(f\"NumPy array took {np_array_time:.6f} seconds\")\n",
    "print(f\"SPEED RATIO (Py/Np) = {(py_list_time/np_array_time):.2f}\\n\")"
   ]
  },
  {
   "cell_type": "code",
   "execution_count": 25,
   "metadata": {},
   "outputs": [
    {
     "name": "stdout",
     "output_type": "stream",
     "text": [
      "Multiplication:\n",
      "Python list took 0.034166 seconds\n",
      "NumPy array took 0.001002 seconds\n",
      "SPEED RATIO (Py/Np) = 34.10\n",
      "\n"
     ]
    }
   ],
   "source": [
    "# Multiplication\n",
    "start_time = time.time()\n",
    "py_list_result = [x * 2 for x in py_list]\n",
    "py_list_time = time.time() - start_time\n",
    "\n",
    "start_time = time.time()\n",
    "np_array_result = np_array * 2\n",
    "np_array_time = time.time() - start_time\n",
    "\n",
    "print(\"Multiplication:\")\n",
    "print(f\"Python list took {py_list_time:.6f} seconds\")\n",
    "print(f\"NumPy array took {np_array_time:.6f} seconds\")\n",
    "print(f\"SPEED RATIO (Py/Np) = {(py_list_time/np_array_time):.2f}\\n\")"
   ]
  },
  {
   "cell_type": "code",
   "execution_count": 26,
   "metadata": {},
   "outputs": [
    {
     "name": "stdout",
     "output_type": "stream",
     "text": [
      "Element-wise Square Root:\n",
      "Python list took 0.099532 seconds\n",
      "NumPy array took 0.001982 seconds\n",
      "SPEED RATIO (Py/Np) = 50.22\n",
      "\n"
     ]
    }
   ],
   "source": [
    "# Element-wise operation\n",
    "def square_root(x):\n",
    "    return x**0.5\n",
    "\n",
    "start_time = time.time()\n",
    "py_list_result = [square_root(x) for x in py_list]\n",
    "py_list_time = time.time() - start_time\n",
    "\n",
    "start_time = time.time()\n",
    "np_array_result = np.sqrt(np_array)\n",
    "np_array_time = time.time() - start_time\n",
    "\n",
    "print(\"Element-wise Square Root:\")\n",
    "print(f\"Python list took {py_list_time:.6f} seconds\")\n",
    "print(f\"NumPy array took {np_array_time:.6f} seconds\")\n",
    "print(f\"SPEED RATIO (Py/Np) = {(py_list_time/np_array_time):.2f}\\n\")"
   ]
  }
 ],
 "metadata": {
  "kernelspec": {
   "display_name": "Python 3",
   "language": "python",
   "name": "python3"
  },
  "language_info": {
   "codemirror_mode": {
    "name": "ipython",
    "version": 3
   },
   "file_extension": ".py",
   "mimetype": "text/x-python",
   "name": "python",
   "nbconvert_exporter": "python",
   "pygments_lexer": "ipython3",
   "version": "3.11.4"
  },
  "orig_nbformat": 4
 },
 "nbformat": 4,
 "nbformat_minor": 2
}
