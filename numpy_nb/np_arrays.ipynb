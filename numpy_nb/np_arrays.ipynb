{
 "cells": [
  {
   "cell_type": "markdown",
   "metadata": {},
   "source": [
    "[NumPy User Guide](https://numpy.org/doc/1.25/user/index.html#user)\n",
    "\n",
    "[NumPy: the absolute basics for beginners](https://numpy.org/doc/1.25/user/absolute_beginners.html)\n",
    "\n",
    "[NumPy Crash Course - Complete Tutorial](https://www.youtube.com/watch?v=9JUAPgtkKpI)\n",
    "\n",
    "[current video position](https://youtu.be/9JUAPgtkKpI?t=629)"
   ]
  },
  {
   "cell_type": "markdown",
   "metadata": {},
   "source": []
  },
  {
   "cell_type": "code",
   "execution_count": null,
   "metadata": {},
   "outputs": [],
   "source": [
    "import numpy as np\n",
    "print(np.__version__)"
   ]
  },
  {
   "cell_type": "code",
   "execution_count": null,
   "metadata": {},
   "outputs": [],
   "source": [
    "a = np.array([1,2,3,4,5])\n",
    "print(a)\n",
    "print(a[2])\n",
    "print(type(a))\n",
    "print(type(a[2]))\n",
    "print(a.dtype)\n",
    "print(a.shape)\n",
    "print(a.ndim)\n",
    "print(a.size)\n",
    "print(a.itemsize)"
   ]
  },
  {
   "cell_type": "code",
   "execution_count": null,
   "metadata": {},
   "outputs": [],
   "source": [
    "a[2] = 33\n",
    "print(a[2])\n",
    "print(a)"
   ]
  },
  {
   "cell_type": "markdown",
   "metadata": {},
   "source": [
    "### Matherical Operations"
   ]
  },
  {
   "cell_type": "code",
   "execution_count": null,
   "metadata": {},
   "outputs": [],
   "source": [
    "a = np.array([1,2,3,4,5])\n",
    "aa = np.array([2,2,0,3,3])\n",
    "b = a * aa\n",
    "print(b)"
   ]
  },
  {
   "cell_type": "code",
   "execution_count": null,
   "metadata": {},
   "outputs": [],
   "source": [
    "a1 = np.array([1,2,3])\n",
    "a2 = np.array([4,5,6])\n",
    "\n",
    "dot = np.dot(a1,a2)\n",
    "print(dot)\n",
    "\n",
    "dot = a1 @ a2\n",
    "print(dot)"
   ]
  },
  {
   "cell_type": "code",
   "execution_count": null,
   "metadata": {},
   "outputs": [],
   "source": [
    "l = [1,2,3]\n",
    "print(l)\n",
    "a = np.array([4,5,6])\n",
    "print(a)\n",
    "\n",
    "l.append(4)\n",
    "print(l)\n",
    "\n",
    "# a.append(7)\n",
    "# print(a)\n",
    "\n",
    "l = l + [5]\n",
    "print(l)\n",
    "\n",
    "a = a + np.array([5]) # a = a + np.array([5],[5],[5])\n",
    "print(a)\n",
    "\n",
    "a = a + np.array([5,5,5])\n",
    "print(a)"
   ]
  },
  {
   "cell_type": "code",
   "execution_count": null,
   "metadata": {},
   "outputs": [],
   "source": [
    "l = [9,8,7,6,5]\n",
    "a = np.array([2,3,4,5,6])\n",
    "\n",
    "print(\"l = \",l)\n",
    "print(\"a = \", a)\n",
    "\n",
    "l = l * 2\n",
    "print(\"l * 2 =\", l)\n",
    "\n",
    "a = a * np.array([8])\n",
    "print( np.array([8]))\n",
    "print(\"a = \",a)\n",
    "\n",
    "sqrt = np.sqrt(a)\n",
    "print(sqrt)\n",
    "\n",
    "log = np.log(a)\n",
    "print(a)\n",
    "print(log)\n"
   ]
  },
  {
   "cell_type": "markdown",
   "metadata": {},
   "source": []
  },
  {
   "cell_type": "markdown",
   "metadata": {},
   "source": [
    "## Speed Test    Python List vs Numpy Array"
   ]
  },
  {
   "cell_type": "code",
   "execution_count": 70,
   "metadata": {},
   "outputs": [
    {
     "name": "stdout",
     "output_type": "stream",
     "text": [
      "np_array:  [-1.0944513   0.94598114 -0.29868128  0.07981219 -0.39675062 -1.2992222\n",
      "  0.06601866 -0.81511341 -1.17255862 -0.03269763] \n",
      "\n",
      "py_list:  [-1.0944513025330393, 0.9459811438790977, -0.29868127658383486, 0.07981219379282183, -0.396750616130047, -1.2992221988077362, 0.06601866053042973, -0.8151134088564675, -1.1725586165004445, -0.032697634836915755] \n",
      "\n",
      "numpy_array:  8.675565199999255 -2.624779706155242e-05\n",
      "py_list:  5.602636700001312 -2.624779706155242e-05\n"
     ]
    }
   ],
   "source": [
    "import numpy as np\n",
    "from timeit import timeit\n",
    "        \n",
    "def numpy_array():\n",
    "    global product\n",
    "    product = 1\n",
    "    for i in range(len(np_array)):\n",
    "        product *= np_array[i]\n",
    "\n",
    "def python_list():\n",
    "    global product\n",
    "    product = 1\n",
    "    for i in range(len(py_list)):\n",
    "        product *= py_list[i]\n",
    "\n",
    "np_array = np.random.randn(10)\n",
    "print('np_array: ',np_array, '\\n')\n",
    "\n",
    "py_list= list(np_array)\n",
    "print('py_list: ',py_list, '\\n')\n",
    "\n",
    "t = timeit(lambda: numpy_array(), number = 10000000)\n",
    "print('numpy_array: ',t, product)\n",
    "\n",
    "t = timeit(lambda: python_list(), number = 10000000)\n",
    "print('py_list: ',t, product)\n"
   ]
  },
  {
   "cell_type": "code",
   "execution_count": 71,
   "metadata": {},
   "outputs": [
    {
     "name": "stdout",
     "output_type": "stream",
     "text": [
      "np_array:  [-0.25934798 -2.31502048 -0.9534949  -0.2222493   0.82722087 -1.21384581\n",
      " -0.33027378 -1.01892016  1.40336794  0.23620048] \n",
      "\n",
      "py_list:  [-0.25934797705977525, -2.315020477674694, -0.9534948958027512, -0.22224930278074928, 0.8272208686309691, -1.213845805897312, -0.33027377682921266, -1.0189201604946214, 1.4033679365433152, 0.23620047605410474] \n",
      "\n",
      "numpy_array:  8.83279849999235 -0.014251088993131933\n",
      "py_list:  5.478028499986976 -0.014251088993131933\n"
     ]
    }
   ],
   "source": [
    "import numpy as np\n",
    "from timeit import timeit\n",
    "\n",
    "def process(np_py):\n",
    "    global product\n",
    "    product = 1\n",
    "    for i in range(len(np_py)):\n",
    "        product *= np_py[i]\n",
    "\n",
    "np_array = np.random.randn(10)\n",
    "print('np_array: ',np_array, '\\n')\n",
    "\n",
    "py_list= list(np_array)\n",
    "print('py_list: ',py_list, '\\n')\n",
    "\n",
    "t = timeit(lambda: process(np_array), number = 10000000)\n",
    "print('numpy_array: ',t, product)\n",
    "\n",
    "t = timeit(lambda: process(py_list), number = 10000000)\n",
    "print('py_list: ',t, product)\n"
   ]
  }
 ],
 "metadata": {
  "kernelspec": {
   "display_name": "Python 3",
   "language": "python",
   "name": "python3"
  },
  "language_info": {
   "codemirror_mode": {
    "name": "ipython",
    "version": 3
   },
   "file_extension": ".py",
   "mimetype": "text/x-python",
   "name": "python",
   "nbconvert_exporter": "python",
   "pygments_lexer": "ipython3",
   "version": "3.11.4"
  },
  "orig_nbformat": 4
 },
 "nbformat": 4,
 "nbformat_minor": 2
}
