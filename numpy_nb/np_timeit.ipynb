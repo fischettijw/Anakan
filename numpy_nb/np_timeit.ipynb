{
 "cells": [
  {
   "cell_type": "code",
   "execution_count": 29,
   "metadata": {},
   "outputs": [
    {
     "name": "stdout",
     "output_type": "stream",
     "text": [
      "0.6547877999983029\n",
      "1.4351686000009067\n"
     ]
    }
   ],
   "source": [
    "import numpy as np\n",
    "from timeit import timeit\n",
    "import math\n",
    "\n",
    "def python_list():\n",
    "    my_list = [1,2,3,4,5,6,7,8,9]\n",
    "    product = 1\n",
    "    for i in range(9):\n",
    "        product *= math.sqrt(my_list[i])\n",
    "        \n",
    "def numpy_array():\n",
    "    my_array = np.array([1,2,3,4,5,6,7,8,9])\n",
    "    product = 1\n",
    "    for i in range(9):\n",
    "        product *= math.sqrt(my_array[i])\n",
    "               \n",
    "        \n",
    "t = timeit(lambda: python_list(), number = 1000000)\n",
    "print(t)\n",
    "t = timeit(lambda: numpy_array(), number = 1000000)\n",
    "print(t)"
   ]
  },
  {
   "cell_type": "markdown",
   "metadata": {},
   "source": []
  }
 ],
 "metadata": {
  "kernelspec": {
   "display_name": "Python 3",
   "language": "python",
   "name": "python3"
  },
  "language_info": {
   "codemirror_mode": {
    "name": "ipython",
    "version": 3
   },
   "file_extension": ".py",
   "mimetype": "text/x-python",
   "name": "python",
   "nbconvert_exporter": "python",
   "pygments_lexer": "ipython3",
   "version": "3.11.4"
  },
  "orig_nbformat": 4
 },
 "nbformat": 4,
 "nbformat_minor": 2
}
