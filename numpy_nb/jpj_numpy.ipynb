{
 "cells": [
  {
   "cell_type": "markdown",
   "metadata": {},
   "source": [
    "[Numpy by John Paul Jones](https://www.youtube.com/watch?v=Kuekeu4_ZyY&list=PL6lxxT7IdTxFR3iNh1OT1r9hKsvwC_nA_&index=1)"
   ]
  },
  {
   "cell_type": "markdown",
   "metadata": {},
   "source": [
    "# Python List   vs   NumPy array"
   ]
  },
  {
   "cell_type": "code",
   "execution_count": 5,
   "metadata": {},
   "outputs": [
    {
     "name": "stdout",
     "output_type": "stream",
     "text": [
      "1.25.1\n",
      "[1, 2, 3, 5, 7] <class 'list'>\n",
      "[1 2 3 5 7] <class 'numpy.ndarray'>\n"
     ]
    }
   ],
   "source": [
    "import numpy as np\n",
    "\n",
    "print(np.__version__)\n",
    "\n",
    "my_list = [1,2,3,5,7]\n",
    "\n",
    "my_numpy_array = np.array(my_list)\n",
    "\n",
    "print(my_list, type(my_list))\n",
    "print(my_numpy_array, type(my_numpy_array))\n",
    "\n",
    "# 'nd' in 'ndarray' stands for 'n Number' and 'd Dimensional' and 'array Array\n",
    "\n",
    "# An ndarray is a fixed-size multidimensional container of items of the same type and size."
   ]
  },
  {
   "cell_type": "markdown",
   "metadata": {},
   "source": [
    "##### A Numpy array is far superior for manipulating large data sets compared to a Python list but not quite as flexible. The main reason is that a Numpy array is stored in one continuous place in memory but all items must be the same data type.\n"
   ]
  },
  {
   "cell_type": "code",
   "execution_count": 7,
   "metadata": {},
   "outputs": [
    {
     "name": "stdout",
     "output_type": "stream",
     "text": [
      "7\n",
      "7\n",
      "7 <class 'int'>\n",
      "7 <class 'numpy.ndarray'>\n"
     ]
    }
   ],
   "source": [
    "import numpy as np\n",
    "\n",
    "my_integer = 7\n",
    "\n",
    "# zero dimensional array\n",
    "my_array = np.array(my_integer)\n",
    "\n",
    "print(my_integer)\n",
    "print(my_array)\n",
    "\n",
    "print(my_integer, type(my_integer))\n",
    "print(my_array, type(my_array))"
   ]
  },
  {
   "cell_type": "code",
   "execution_count": null,
   "metadata": {},
   "outputs": [],
   "source": [
    "import numpy as np\n",
    "import timeit\n",
    "\n"
   ]
  }
 ],
 "metadata": {
  "kernelspec": {
   "display_name": "Python 3",
   "language": "python",
   "name": "python3"
  },
  "language_info": {
   "codemirror_mode": {
    "name": "ipython",
    "version": 3
   },
   "file_extension": ".py",
   "mimetype": "text/x-python",
   "name": "python",
   "nbconvert_exporter": "python",
   "pygments_lexer": "ipython3",
   "version": "3.11.4"
  },
  "orig_nbformat": 4
 },
 "nbformat": 4,
 "nbformat_minor": 2
}
