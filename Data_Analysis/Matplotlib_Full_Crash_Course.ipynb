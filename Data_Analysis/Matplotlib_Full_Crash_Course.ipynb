{
 "cells": [
  {
   "cell_type": "markdown",
   "metadata": {},
   "source": [
    "[Matplotlib - Full Crash Course](https://www.youtube.com/watch?v=OZOOLe2imFo)"
   ]
  },
  {
   "cell_type": "code",
   "execution_count": null,
   "metadata": {},
   "outputs": [],
   "source": [
    "import numpy as np\n",
    "import matplotlib.pyplot as plt\n",
    "import random"
   ]
  },
  {
   "cell_type": "code",
   "execution_count": null,
   "metadata": {},
   "outputs": [],
   "source": [
    "import numpy as np\n",
    "import matplotlib.pyplot as plt\n",
    "import random\n",
    "\n",
    "x_data = np.random.random(10) * 100\n",
    "y_data = np.random.random(10) * 100\n",
    "\n",
    "print(x_data)\n"
   ]
  },
  {
   "cell_type": "code",
   "execution_count": null,
   "metadata": {},
   "outputs": [],
   "source": [
    "import numpy as np\n",
    "import matplotlib.pyplot as plt\n",
    "import random\n",
    "\n",
    "x_data = np.random.random(1000) * 100\n",
    "y_data = np.random.random(1000) * 100\n",
    "\n",
    "plt.scatter(x_data, y_data)\n",
    "plt.show()"
   ]
  },
  {
   "cell_type": "code",
   "execution_count": null,
   "metadata": {},
   "outputs": [],
   "source": [
    "# import numpy as np\n",
    "# import matplotlib.pyplot as plt\n",
    "\n",
    "x_data = np.random.random(100) * 100\n",
    "y_data = np.random.random(100) * 100\n",
    "\n",
    "plt.scatter(x_data, y_data, color = \"red\", marker = \"*\", s = 150)\n",
    "plt.show()"
   ]
  },
  {
   "cell_type": "code",
   "execution_count": null,
   "metadata": {},
   "outputs": [],
   "source": [
    "import numpy as np\n",
    "import matplotlib.pyplot as plt\n",
    "import random\n",
    "\n",
    "years = [2006 + x for x in range(16)]\n",
    "print(years)\n",
    "weights = [random.randint(160,175) for _ in range(16)]\n",
    "print(weights)\n",
    "\n",
    "plt.plot(years, weights, color = \"green\", lw = 3, linestyle = '--')    # default plot is line\n",
    "plt.show()"
   ]
  },
  {
   "cell_type": "code",
   "execution_count": null,
   "metadata": {},
   "outputs": [],
   "source": [
    "# import numpy as np\n",
    "import matplotlib.pyplot as plt\n",
    "\n",
    "languages = ['c#', 'c++', 'c', 'python', 'java']\n",
    "votes = [100,110, 35, 210, 80]\n",
    "\n",
    "plt.bar(languages,votes, color = 'purple', align='edge', width=.5, edgecolor= 'green',lw=6)\n",
    "plt.show()"
   ]
  },
  {
   "cell_type": "code",
   "execution_count": null,
   "metadata": {},
   "outputs": [],
   "source": [
    "import numpy as np\n",
    "import matplotlib.pyplot as plt\n",
    "\n",
    "intelligence = np.random.normal(100, 15, 1000)\n",
    "\n",
    "plt.hist(intelligence, histtype='bar', bins = 20, cumulative=True)   # try F12 or right click and select 'Go to definition'\n",
    "plt.xlabel('IQ')\n",
    "plt.ylabel('Frequency')\n",
    "plt.title('IQ vs Frequency for 1000 people')\n",
    "plt.show()"
   ]
  },
  {
   "cell_type": "markdown",
   "metadata": {},
   "source": [
    "[YouTube Video - start position](https://youtu.be/OZOOLe2imFo?t=1467)"
   ]
  }
 ],
 "metadata": {
  "kernelspec": {
   "display_name": "Python 3",
   "language": "python",
   "name": "python3"
  },
  "language_info": {
   "codemirror_mode": {
    "name": "ipython",
    "version": 3
   },
   "file_extension": ".py",
   "mimetype": "text/x-python",
   "name": "python",
   "nbconvert_exporter": "python",
   "pygments_lexer": "ipython3",
   "version": "3.11.4"
  },
  "orig_nbformat": 4
 },
 "nbformat": 4,
 "nbformat_minor": 2
}
