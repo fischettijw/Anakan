{
 "cells": [
  {
   "cell_type": "markdown",
   "metadata": {},
   "source": [
    "# [Markdown Tips & Tricks 2022](https://www.youtube.com/watch?v=ftOBvusMHjQ)\n",
    "\n",
    "# [Current Position in Above YouTube Video](https://youtu.be/ftOBvusMHjQ?t=511)"
   ]
  },
  {
   "cell_type": "markdown",
   "metadata": {},
   "source": [
    "# Headings\n",
    "\n",
    "Below are 6 heading variations.\n",
    "\n",
    "# Heading 1\n",
    "\n",
    "## Heading 2\n",
    "\n",
    "### Heading 3\n",
    "\n",
    "#### Heading 4\n",
    "\n",
    "##### Heading 5\n",
    "\n",
    "###### Heading 6\n"
   ]
  },
  {
   "cell_type": "markdown",
   "metadata": {},
   "source": [
    "# Horizontal Rule\n",
    "\n",
    "This is a horizontal rule\n",
    "\n",
    "---\n",
    "\n",
    "It separates content"
   ]
  },
  {
   "cell_type": "markdown",
   "metadata": {},
   "source": [
    "# Test Formatting\n",
    "\n",
    "Paragraph line spacing is imporetant.\n",
    "\n",
    "*italic text*  and/or  _more italic text_\n",
    "\n",
    "**bold text** and/or __more bold text__\n",
    "\n",
    "***bold and italic text*** and/or ___bold and italic text____\n",
    "\n",
    "**mix *and* match**\n",
    "\n",
    "~~strikethrough text~~"
   ]
  },
  {
   "cell_type": "markdown",
   "metadata": {},
   "source": [
    "# Lists\n",
    "\n",
    "Ordered List\n",
    "\n",
    "1. Item 1\n",
    "1. Item 2\n",
    "1. Item 3\n",
    "\n",
    "Unordered List\n",
    "\n",
    "- Item 1\n",
    "- Item 2\n",
    "- Item 3"
   ]
  },
  {
   "cell_type": "markdown",
   "metadata": {},
   "source": [
    "# Code Formatting\n",
    "\n",
    "Fenced code block:\n",
    "\n",
    "```py\n",
    "a = 4\n",
    "b = 6\n",
    "c = a + b\n",
    "\n",
    "def add(x, y):\n",
    "    return x + y\n",
    "\n",
    "d = add(4, 7)\n",
    "```"
   ]
  },
  {
   "cell_type": "markdown",
   "metadata": {},
   "source": [
    "# Blockquote\n",
    "\n",
    "> This is a blockquote\n",
    ">\n",
    "> Some text"
   ]
  },
  {
   "cell_type": "markdown",
   "metadata": {},
   "source": [
    "# Links\n",
    "\n",
    "[codeSTACKr](https://youtube.com/codestackr \"codeSTACKr YouTube\")\n",
    "\n",
    "[Heading 1](#heading-1)"
   ]
  },
  {
   "cell_type": "markdown",
   "metadata": {},
   "source": [
    "# Images\n",
    "\n",
    "![alt text here](boxer.jpg)\n",
    "\n",
    "[![alt text here!](beagle.jpg \"This image is a link\")](https://en.m.wikipedia.org/wiki/The_Intelligence_of_Dogs#cite_ref-ReferenceA_18-0)\n",
    "\n",
    "\n",
    "The Image Above is a LINK\n"
   ]
  },
  {
   "cell_type": "markdown",
   "metadata": {},
   "source": [
    "# Table\n",
    "\n",
    "| Packages | Description | Version |\n",
    "| :---     |    :---:    |    ---: |\n",
    "| React    | JavaScript Framework | v18.0 |\n",
    "| Next.js  | React Framework | v12.0 |\n"
   ]
  },
  {
   "cell_type": "markdown",
   "metadata": {},
   "source": [
    "# Task List\n",
    "\n",
    "###### install Markdown All in One\n",
    "\n",
    "- [x] Task 1\n",
    "- [ ] Task 2\n",
    "- [ ] Task3"
   ]
  },
  {
   "cell_type": "markdown",
   "metadata": {},
   "source": [
    "# Emoji               install Markdown Emoji\n",
    "\n",
    "Emoji's are fun! :joy: :tada: :bulb:"
   ]
  },
  {
   "cell_type": "markdown",
   "metadata": {},
   "source": [
    "# Comment\n",
    "\n",
    "###### does not display in rendered markdown\n",
    "\n",
    "[This is a hidden comment.]: # "
   ]
  },
  {
   "cell_type": "markdown",
   "metadata": {},
   "source": [
    "# Toggle\n",
    "\n",
    "<details>\n",
    "<summary> This is a toggle!</summary>\n",
    "Contents #1 of Toggle\n",
    "\n",
    "Contents #2 of Toggle\n",
    "</details>"
   ]
  },
  {
   "cell_type": "markdown",
   "metadata": {},
   "source": [
    "# Callout\n",
    "\n",
    "> :bulb: **Tip:** Here's an important tip to remember!"
   ]
  }
 ],
 "metadata": {
  "language_info": {
   "name": "python"
  },
  "orig_nbformat": 4
 },
 "nbformat": 4,
 "nbformat_minor": 2
}
